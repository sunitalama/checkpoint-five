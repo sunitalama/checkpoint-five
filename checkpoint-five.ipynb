{
 "cells": [
  {
   "cell_type": "markdown",
   "metadata": {
    "azdata_cell_guid": "c9a57f69-e372-43d2-94fc-ab1a9097069f"
   },
   "source": [
    "# Checkpoint Five: Modeling Data\n",
    "\n",
    "With your visualizations ready to go, the final step in your project is to do some predictive analysis on your dataset. You will be using linear regression for your model. You will not be penalized if your linear regression model does not work out. You just need to build the model and make notes as to the results.\n",
    "\n",
    "Link to my dataset:  https://www.kaggle.com/datasets/nwheeler443/gono-unitigs\n",
    "\n",
    "## Prepare Your Dataframe\n",
    "\n",
    "Import any libraries you need and create a dataframe."
   ]
  },
  {
   "cell_type": "code",
   "execution_count": 106,
   "metadata": {
    "azdata_cell_guid": "f9287db4-8af9-4bce-9a54-ffeeee0e045f"
   },
   "outputs": [
    {
     "data": {
      "text/html": [
       "<div>\n",
       "<style scoped>\n",
       "    .dataframe tbody tr th:only-of-type {\n",
       "        vertical-align: middle;\n",
       "    }\n",
       "\n",
       "    .dataframe tbody tr th {\n",
       "        vertical-align: top;\n",
       "    }\n",
       "\n",
       "    .dataframe thead th {\n",
       "        text-align: right;\n",
       "    }\n",
       "</style>\n",
       "<table border=\"1\" class=\"dataframe\">\n",
       "  <thead>\n",
       "    <tr style=\"text-align: right;\">\n",
       "      <th></th>\n",
       "      <th>Unnamed: 0</th>\n",
       "      <th>Sample_ID</th>\n",
       "      <th>Year</th>\n",
       "      <th>Country</th>\n",
       "      <th>Continent</th>\n",
       "      <th>Azithromycin mic</th>\n",
       "      <th>Ciprofloxacin mic</th>\n",
       "      <th>Ceftriaxone mic</th>\n",
       "      <th>Cefixime mic</th>\n",
       "      <th>Azithromycin log mic</th>\n",
       "      <th>Ciprofloxacin log mic</th>\n",
       "      <th>Ceftriaxone log mic</th>\n",
       "      <th>Cefixime log mic</th>\n",
       "      <th>Azithromycin sr</th>\n",
       "      <th>Ciprofloxacin sr</th>\n",
       "      <th>Ceftriaxone sr</th>\n",
       "      <th>Cefixime sr</th>\n",
       "    </tr>\n",
       "  </thead>\n",
       "  <tbody>\n",
       "    <tr>\n",
       "      <th>0</th>\n",
       "      <td>14</td>\n",
       "      <td>SRR1661154</td>\n",
       "      <td>1996.0</td>\n",
       "      <td>Canada</td>\n",
       "      <td>America</td>\n",
       "      <td>0.250</td>\n",
       "      <td>0.500</td>\n",
       "      <td>0.12500</td>\n",
       "      <td>0.125</td>\n",
       "      <td>-2.000000</td>\n",
       "      <td>-1.000000</td>\n",
       "      <td>-3.000000</td>\n",
       "      <td>-3.000000</td>\n",
       "      <td>Sensitive</td>\n",
       "      <td>Sensitive</td>\n",
       "      <td>Sensitive</td>\n",
       "      <td>Sensitive</td>\n",
       "    </tr>\n",
       "    <tr>\n",
       "      <th>1</th>\n",
       "      <td>15</td>\n",
       "      <td>SRR1661156</td>\n",
       "      <td>1997.0</td>\n",
       "      <td>Canada</td>\n",
       "      <td>America</td>\n",
       "      <td>0.250</td>\n",
       "      <td>16.000</td>\n",
       "      <td>0.12500</td>\n",
       "      <td>0.063</td>\n",
       "      <td>-2.000000</td>\n",
       "      <td>4.000000</td>\n",
       "      <td>-3.000000</td>\n",
       "      <td>-3.988504</td>\n",
       "      <td>Sensitive</td>\n",
       "      <td>Resistant</td>\n",
       "      <td>Sensitive</td>\n",
       "      <td>Sensitive</td>\n",
       "    </tr>\n",
       "    <tr>\n",
       "      <th>2</th>\n",
       "      <td>16</td>\n",
       "      <td>SRR1661157</td>\n",
       "      <td>1998.0</td>\n",
       "      <td>Canada</td>\n",
       "      <td>America</td>\n",
       "      <td>0.125</td>\n",
       "      <td>0.016</td>\n",
       "      <td>0.12500</td>\n",
       "      <td>0.063</td>\n",
       "      <td>-3.000000</td>\n",
       "      <td>-5.965784</td>\n",
       "      <td>-3.000000</td>\n",
       "      <td>-3.988504</td>\n",
       "      <td>Sensitive</td>\n",
       "      <td>Sensitive</td>\n",
       "      <td>Sensitive</td>\n",
       "      <td>Sensitive</td>\n",
       "    </tr>\n",
       "    <tr>\n",
       "      <th>3</th>\n",
       "      <td>17</td>\n",
       "      <td>SRR1661158</td>\n",
       "      <td>2000.0</td>\n",
       "      <td>Canada</td>\n",
       "      <td>America</td>\n",
       "      <td>0.250</td>\n",
       "      <td>0.500</td>\n",
       "      <td>0.12500</td>\n",
       "      <td>0.250</td>\n",
       "      <td>-2.000000</td>\n",
       "      <td>-1.000000</td>\n",
       "      <td>-3.000000</td>\n",
       "      <td>-2.000000</td>\n",
       "      <td>Sensitive</td>\n",
       "      <td>Sensitive</td>\n",
       "      <td>Sensitive</td>\n",
       "      <td>Sensitive</td>\n",
       "    </tr>\n",
       "    <tr>\n",
       "      <th>4</th>\n",
       "      <td>18</td>\n",
       "      <td>SRR1661159</td>\n",
       "      <td>2001.0</td>\n",
       "      <td>Canada</td>\n",
       "      <td>America</td>\n",
       "      <td>0.063</td>\n",
       "      <td>0.063</td>\n",
       "      <td>0.00025</td>\n",
       "      <td>0.001</td>\n",
       "      <td>-3.988504</td>\n",
       "      <td>-3.988504</td>\n",
       "      <td>-11.965784</td>\n",
       "      <td>-9.965784</td>\n",
       "      <td>Sensitive</td>\n",
       "      <td>Sensitive</td>\n",
       "      <td>Sensitive</td>\n",
       "      <td>Sensitive</td>\n",
       "    </tr>\n",
       "    <tr>\n",
       "      <th>...</th>\n",
       "      <td>...</td>\n",
       "      <td>...</td>\n",
       "      <td>...</td>\n",
       "      <td>...</td>\n",
       "      <td>...</td>\n",
       "      <td>...</td>\n",
       "      <td>...</td>\n",
       "      <td>...</td>\n",
       "      <td>...</td>\n",
       "      <td>...</td>\n",
       "      <td>...</td>\n",
       "      <td>...</td>\n",
       "      <td>...</td>\n",
       "      <td>...</td>\n",
       "      <td>...</td>\n",
       "      <td>...</td>\n",
       "      <td>...</td>\n",
       "    </tr>\n",
       "    <tr>\n",
       "      <th>2764</th>\n",
       "      <td>3680</td>\n",
       "      <td>SRR5827366</td>\n",
       "      <td>2015.0</td>\n",
       "      <td>New_Zealand</td>\n",
       "      <td>Oceania</td>\n",
       "      <td>0.250</td>\n",
       "      <td>0.004</td>\n",
       "      <td>0.00400</td>\n",
       "      <td>0.008</td>\n",
       "      <td>-2.000000</td>\n",
       "      <td>-7.965784</td>\n",
       "      <td>-7.965784</td>\n",
       "      <td>-6.965784</td>\n",
       "      <td>Sensitive</td>\n",
       "      <td>Sensitive</td>\n",
       "      <td>Sensitive</td>\n",
       "      <td>Sensitive</td>\n",
       "    </tr>\n",
       "    <tr>\n",
       "      <th>2765</th>\n",
       "      <td>3681</td>\n",
       "      <td>SRR5827371</td>\n",
       "      <td>2015.0</td>\n",
       "      <td>New_Zealand</td>\n",
       "      <td>Oceania</td>\n",
       "      <td>0.120</td>\n",
       "      <td>0.002</td>\n",
       "      <td>0.00400</td>\n",
       "      <td>0.008</td>\n",
       "      <td>-3.058894</td>\n",
       "      <td>-8.965784</td>\n",
       "      <td>-7.965784</td>\n",
       "      <td>-6.965784</td>\n",
       "      <td>Sensitive</td>\n",
       "      <td>Sensitive</td>\n",
       "      <td>Sensitive</td>\n",
       "      <td>Sensitive</td>\n",
       "    </tr>\n",
       "    <tr>\n",
       "      <th>2766</th>\n",
       "      <td>3682</td>\n",
       "      <td>SRR5827372</td>\n",
       "      <td>2015.0</td>\n",
       "      <td>New_Zealand</td>\n",
       "      <td>Oceania</td>\n",
       "      <td>0.500</td>\n",
       "      <td>0.004</td>\n",
       "      <td>0.00800</td>\n",
       "      <td>0.016</td>\n",
       "      <td>-1.000000</td>\n",
       "      <td>-7.965784</td>\n",
       "      <td>-6.965784</td>\n",
       "      <td>-5.965784</td>\n",
       "      <td>Sensitive</td>\n",
       "      <td>Sensitive</td>\n",
       "      <td>Sensitive</td>\n",
       "      <td>Sensitive</td>\n",
       "    </tr>\n",
       "    <tr>\n",
       "      <th>2767</th>\n",
       "      <td>3683</td>\n",
       "      <td>SRR5827369</td>\n",
       "      <td>2015.0</td>\n",
       "      <td>New_Zealand</td>\n",
       "      <td>Oceania</td>\n",
       "      <td>0.500</td>\n",
       "      <td>8.000</td>\n",
       "      <td>0.06000</td>\n",
       "      <td>0.060</td>\n",
       "      <td>-1.000000</td>\n",
       "      <td>3.000000</td>\n",
       "      <td>-4.058894</td>\n",
       "      <td>-4.058894</td>\n",
       "      <td>Sensitive</td>\n",
       "      <td>Resistant</td>\n",
       "      <td>Sensitive</td>\n",
       "      <td>Sensitive</td>\n",
       "    </tr>\n",
       "    <tr>\n",
       "      <th>2768</th>\n",
       "      <td>3684</td>\n",
       "      <td>SRR5827370</td>\n",
       "      <td>2015.0</td>\n",
       "      <td>New_Zealand</td>\n",
       "      <td>Oceania</td>\n",
       "      <td>0.250</td>\n",
       "      <td>0.004</td>\n",
       "      <td>0.00400</td>\n",
       "      <td>0.008</td>\n",
       "      <td>-2.000000</td>\n",
       "      <td>-7.965784</td>\n",
       "      <td>-7.965784</td>\n",
       "      <td>-6.965784</td>\n",
       "      <td>Sensitive</td>\n",
       "      <td>Sensitive</td>\n",
       "      <td>Sensitive</td>\n",
       "      <td>Sensitive</td>\n",
       "    </tr>\n",
       "  </tbody>\n",
       "</table>\n",
       "<p>2769 rows × 17 columns</p>\n",
       "</div>"
      ],
      "text/plain": [
       "      Unnamed: 0   Sample_ID    Year      Country Continent  Azithromycin mic  \\\n",
       "0             14  SRR1661154  1996.0       Canada   America             0.250   \n",
       "1             15  SRR1661156  1997.0       Canada   America             0.250   \n",
       "2             16  SRR1661157  1998.0       Canada   America             0.125   \n",
       "3             17  SRR1661158  2000.0       Canada   America             0.250   \n",
       "4             18  SRR1661159  2001.0       Canada   America             0.063   \n",
       "...          ...         ...     ...          ...       ...               ...   \n",
       "2764        3680  SRR5827366  2015.0  New_Zealand   Oceania             0.250   \n",
       "2765        3681  SRR5827371  2015.0  New_Zealand   Oceania             0.120   \n",
       "2766        3682  SRR5827372  2015.0  New_Zealand   Oceania             0.500   \n",
       "2767        3683  SRR5827369  2015.0  New_Zealand   Oceania             0.500   \n",
       "2768        3684  SRR5827370  2015.0  New_Zealand   Oceania             0.250   \n",
       "\n",
       "      Ciprofloxacin mic  Ceftriaxone mic  Cefixime mic  Azithromycin log mic  \\\n",
       "0                 0.500          0.12500         0.125             -2.000000   \n",
       "1                16.000          0.12500         0.063             -2.000000   \n",
       "2                 0.016          0.12500         0.063             -3.000000   \n",
       "3                 0.500          0.12500         0.250             -2.000000   \n",
       "4                 0.063          0.00025         0.001             -3.988504   \n",
       "...                 ...              ...           ...                   ...   \n",
       "2764              0.004          0.00400         0.008             -2.000000   \n",
       "2765              0.002          0.00400         0.008             -3.058894   \n",
       "2766              0.004          0.00800         0.016             -1.000000   \n",
       "2767              8.000          0.06000         0.060             -1.000000   \n",
       "2768              0.004          0.00400         0.008             -2.000000   \n",
       "\n",
       "      Ciprofloxacin log mic  Ceftriaxone log mic  Cefixime log mic  \\\n",
       "0                 -1.000000            -3.000000         -3.000000   \n",
       "1                  4.000000            -3.000000         -3.988504   \n",
       "2                 -5.965784            -3.000000         -3.988504   \n",
       "3                 -1.000000            -3.000000         -2.000000   \n",
       "4                 -3.988504           -11.965784         -9.965784   \n",
       "...                     ...                  ...               ...   \n",
       "2764              -7.965784            -7.965784         -6.965784   \n",
       "2765              -8.965784            -7.965784         -6.965784   \n",
       "2766              -7.965784            -6.965784         -5.965784   \n",
       "2767               3.000000            -4.058894         -4.058894   \n",
       "2768              -7.965784            -7.965784         -6.965784   \n",
       "\n",
       "     Azithromycin sr Ciprofloxacin sr Ceftriaxone sr Cefixime sr  \n",
       "0          Sensitive        Sensitive      Sensitive   Sensitive  \n",
       "1          Sensitive        Resistant      Sensitive   Sensitive  \n",
       "2          Sensitive        Sensitive      Sensitive   Sensitive  \n",
       "3          Sensitive        Sensitive      Sensitive   Sensitive  \n",
       "4          Sensitive        Sensitive      Sensitive   Sensitive  \n",
       "...              ...              ...            ...         ...  \n",
       "2764       Sensitive        Sensitive      Sensitive   Sensitive  \n",
       "2765       Sensitive        Sensitive      Sensitive   Sensitive  \n",
       "2766       Sensitive        Sensitive      Sensitive   Sensitive  \n",
       "2767       Sensitive        Resistant      Sensitive   Sensitive  \n",
       "2768       Sensitive        Sensitive      Sensitive   Sensitive  \n",
       "\n",
       "[2769 rows x 17 columns]"
      ]
     },
     "execution_count": 106,
     "metadata": {},
     "output_type": "execute_result"
    }
   ],
   "source": [
    "import numpy as np\n",
    "import pandas as pd\n",
    "\n",
    "\n",
    "# Read the given CSV file, and view some sample records\n",
    "\n",
    "data = pd.read_csv(r\"C:\\Users\\lama_\\Downloads\\anti_df (4).csv\")\n",
    "\n",
    "data"
   ]
  },
  {
   "cell_type": "code",
   "execution_count": 107,
   "metadata": {},
   "outputs": [
    {
     "data": {
      "text/plain": [
       "(2769, 17)"
      ]
     },
     "execution_count": 107,
     "metadata": {},
     "output_type": "execute_result"
    }
   ],
   "source": [
    "data.shape"
   ]
  },
  {
   "cell_type": "code",
   "execution_count": 108,
   "metadata": {},
   "outputs": [
    {
     "name": "stdout",
     "output_type": "stream",
     "text": [
      "<class 'pandas.core.frame.DataFrame'>\n",
      "RangeIndex: 2769 entries, 0 to 2768\n",
      "Data columns (total 17 columns):\n",
      " #   Column                 Non-Null Count  Dtype  \n",
      "---  ------                 --------------  -----  \n",
      " 0   Unnamed: 0             2769 non-null   int64  \n",
      " 1   Sample_ID              2769 non-null   object \n",
      " 2   Year                   2769 non-null   float64\n",
      " 3   Country                2769 non-null   object \n",
      " 4   Continent              2769 non-null   object \n",
      " 5   Azithromycin mic       2769 non-null   float64\n",
      " 6   Ciprofloxacin mic      2769 non-null   float64\n",
      " 7   Ceftriaxone mic        2769 non-null   float64\n",
      " 8   Cefixime mic           2769 non-null   float64\n",
      " 9   Azithromycin log mic   2769 non-null   float64\n",
      " 10  Ciprofloxacin log mic  2769 non-null   float64\n",
      " 11  Ceftriaxone log mic    2769 non-null   float64\n",
      " 12  Cefixime log mic       2769 non-null   float64\n",
      " 13  Azithromycin sr        2769 non-null   object \n",
      " 14  Ciprofloxacin sr       2769 non-null   object \n",
      " 15  Ceftriaxone sr         2769 non-null   object \n",
      " 16  Cefixime sr            2769 non-null   object \n",
      "dtypes: float64(9), int64(1), object(7)\n",
      "memory usage: 367.9+ KB\n"
     ]
    }
   ],
   "source": [
    "data.info()"
   ]
  },
  {
   "cell_type": "code",
   "execution_count": 109,
   "metadata": {},
   "outputs": [
    {
     "data": {
      "text/html": [
       "<div>\n",
       "<style scoped>\n",
       "    .dataframe tbody tr th:only-of-type {\n",
       "        vertical-align: middle;\n",
       "    }\n",
       "\n",
       "    .dataframe tbody tr th {\n",
       "        vertical-align: top;\n",
       "    }\n",
       "\n",
       "    .dataframe thead th {\n",
       "        text-align: right;\n",
       "    }\n",
       "</style>\n",
       "<table border=\"1\" class=\"dataframe\">\n",
       "  <thead>\n",
       "    <tr style=\"text-align: right;\">\n",
       "      <th></th>\n",
       "      <th>Unnamed: 0</th>\n",
       "      <th>Year</th>\n",
       "      <th>Azithromycin mic</th>\n",
       "      <th>Ciprofloxacin mic</th>\n",
       "      <th>Ceftriaxone mic</th>\n",
       "      <th>Cefixime mic</th>\n",
       "      <th>Azithromycin log mic</th>\n",
       "      <th>Ciprofloxacin log mic</th>\n",
       "      <th>Ceftriaxone log mic</th>\n",
       "      <th>Cefixime log mic</th>\n",
       "    </tr>\n",
       "  </thead>\n",
       "  <tbody>\n",
       "    <tr>\n",
       "      <th>count</th>\n",
       "      <td>2769.000000</td>\n",
       "      <td>2769.000000</td>\n",
       "      <td>2769.000000</td>\n",
       "      <td>2769.000000</td>\n",
       "      <td>2769.000000</td>\n",
       "      <td>2769.000000</td>\n",
       "      <td>2769.000000</td>\n",
       "      <td>2769.000000</td>\n",
       "      <td>2769.000000</td>\n",
       "      <td>2769.000000</td>\n",
       "    </tr>\n",
       "    <tr>\n",
       "      <th>mean</th>\n",
       "      <td>2079.895269</td>\n",
       "      <td>2009.977970</td>\n",
       "      <td>1.171679</td>\n",
       "      <td>7.177719</td>\n",
       "      <td>0.030983</td>\n",
       "      <td>0.070245</td>\n",
       "      <td>-1.714771</td>\n",
       "      <td>-2.193852</td>\n",
       "      <td>-6.255547</td>\n",
       "      <td>-5.114186</td>\n",
       "    </tr>\n",
       "    <tr>\n",
       "      <th>std</th>\n",
       "      <td>1007.667891</td>\n",
       "      <td>4.836401</td>\n",
       "      <td>11.107904</td>\n",
       "      <td>11.162858</td>\n",
       "      <td>0.088457</td>\n",
       "      <td>0.219110</td>\n",
       "      <td>1.915487</td>\n",
       "      <td>5.474201</td>\n",
       "      <td>1.833738</td>\n",
       "      <td>1.727781</td>\n",
       "    </tr>\n",
       "    <tr>\n",
       "      <th>min</th>\n",
       "      <td>14.000000</td>\n",
       "      <td>1979.000000</td>\n",
       "      <td>0.004000</td>\n",
       "      <td>0.001000</td>\n",
       "      <td>0.000250</td>\n",
       "      <td>0.001000</td>\n",
       "      <td>-7.965784</td>\n",
       "      <td>-9.965784</td>\n",
       "      <td>-11.965784</td>\n",
       "      <td>-9.965784</td>\n",
       "    </tr>\n",
       "    <tr>\n",
       "      <th>25%</th>\n",
       "      <td>1234.000000</td>\n",
       "      <td>2009.000000</td>\n",
       "      <td>0.125000</td>\n",
       "      <td>0.004000</td>\n",
       "      <td>0.004000</td>\n",
       "      <td>0.015000</td>\n",
       "      <td>-3.000000</td>\n",
       "      <td>-7.965784</td>\n",
       "      <td>-7.965784</td>\n",
       "      <td>-6.058894</td>\n",
       "    </tr>\n",
       "    <tr>\n",
       "      <th>50%</th>\n",
       "      <td>2197.000000</td>\n",
       "      <td>2012.000000</td>\n",
       "      <td>0.250000</td>\n",
       "      <td>0.047000</td>\n",
       "      <td>0.015000</td>\n",
       "      <td>0.016000</td>\n",
       "      <td>-2.000000</td>\n",
       "      <td>-4.411195</td>\n",
       "      <td>-6.058894</td>\n",
       "      <td>-5.965784</td>\n",
       "    </tr>\n",
       "    <tr>\n",
       "      <th>75%</th>\n",
       "      <td>2889.000000</td>\n",
       "      <td>2013.000000</td>\n",
       "      <td>0.500000</td>\n",
       "      <td>16.000000</td>\n",
       "      <td>0.032000</td>\n",
       "      <td>0.060000</td>\n",
       "      <td>-1.000000</td>\n",
       "      <td>4.000000</td>\n",
       "      <td>-4.965784</td>\n",
       "      <td>-4.058894</td>\n",
       "    </tr>\n",
       "    <tr>\n",
       "      <th>max</th>\n",
       "      <td>3684.000000</td>\n",
       "      <td>2015.000000</td>\n",
       "      <td>512.000000</td>\n",
       "      <td>64.000000</td>\n",
       "      <td>2.000000</td>\n",
       "      <td>8.000000</td>\n",
       "      <td>9.000000</td>\n",
       "      <td>6.000000</td>\n",
       "      <td>1.000000</td>\n",
       "      <td>3.000000</td>\n",
       "    </tr>\n",
       "  </tbody>\n",
       "</table>\n",
       "</div>"
      ],
      "text/plain": [
       "        Unnamed: 0         Year  Azithromycin mic  Ciprofloxacin mic  \\\n",
       "count  2769.000000  2769.000000       2769.000000        2769.000000   \n",
       "mean   2079.895269  2009.977970          1.171679           7.177719   \n",
       "std    1007.667891     4.836401         11.107904          11.162858   \n",
       "min      14.000000  1979.000000          0.004000           0.001000   \n",
       "25%    1234.000000  2009.000000          0.125000           0.004000   \n",
       "50%    2197.000000  2012.000000          0.250000           0.047000   \n",
       "75%    2889.000000  2013.000000          0.500000          16.000000   \n",
       "max    3684.000000  2015.000000        512.000000          64.000000   \n",
       "\n",
       "       Ceftriaxone mic  Cefixime mic  Azithromycin log mic  \\\n",
       "count      2769.000000   2769.000000           2769.000000   \n",
       "mean          0.030983      0.070245             -1.714771   \n",
       "std           0.088457      0.219110              1.915487   \n",
       "min           0.000250      0.001000             -7.965784   \n",
       "25%           0.004000      0.015000             -3.000000   \n",
       "50%           0.015000      0.016000             -2.000000   \n",
       "75%           0.032000      0.060000             -1.000000   \n",
       "max           2.000000      8.000000              9.000000   \n",
       "\n",
       "       Ciprofloxacin log mic  Ceftriaxone log mic  Cefixime log mic  \n",
       "count            2769.000000          2769.000000       2769.000000  \n",
       "mean               -2.193852            -6.255547         -5.114186  \n",
       "std                 5.474201             1.833738          1.727781  \n",
       "min                -9.965784           -11.965784         -9.965784  \n",
       "25%                -7.965784            -7.965784         -6.058894  \n",
       "50%                -4.411195            -6.058894         -5.965784  \n",
       "75%                 4.000000            -4.965784         -4.058894  \n",
       "max                 6.000000             1.000000          3.000000  "
      ]
     },
     "execution_count": 109,
     "metadata": {},
     "output_type": "execute_result"
    }
   ],
   "source": [
    "data.describe()"
   ]
  },
  {
   "cell_type": "markdown",
   "metadata": {
    "azdata_cell_guid": "d794ffe0-9cd3-4812-bc7d-f75460cf611c"
   },
   "source": [
    "## Find Correlations\n",
    "\n",
    "Use either pairplot or a heatmap or both to find the two variables with the strongest correlation in your dataset."
   ]
  },
  {
   "cell_type": "code",
   "execution_count": 110,
   "metadata": {
    "azdata_cell_guid": "b009376d-9eb1-4cf0-9487-f0ddc3dbc1cd"
   },
   "outputs": [],
   "source": [
    "import matplotlib.pyplot as plt \n",
    "import seaborn as sns\n",
    "\n",
    "# Using pairplot we'll visualize the data for correlation\n",
    "\n"
   ]
  },
  {
   "cell_type": "code",
   "execution_count": 111,
   "metadata": {},
   "outputs": [
    {
     "name": "stderr",
     "output_type": "stream",
     "text": [
      "C:\\Users\\lama_\\anaconda3\\lib\\site-packages\\seaborn\\axisgrid.py:2076: UserWarning: The `size` parameter has been renamed to `height`; please update your code.\n",
      "  warnings.warn(msg, UserWarning)\n"
     ]
    },
    {
     "data": {
      "image/png": "[encoded data removed]",
      "text/plain": [
       "<Figure size 864x1152 with 4 Axes>"
      ]
     },
     "metadata": {
      "needs_background": "light"
     },
     "output_type": "display_data"
    }
   ],
   "source": [
    "sns.pairplot(data, x_vars='Year', \n",
    "             y_vars=['Azithromycin mic','Ciprofloxacin mic', 'Cefixime mic', 'Ceftriaxone mic'], size=4, aspect=3, kind='scatter')\n",
    "plt.show()"
   ]
  },
  {
   "cell_type": "code",
   "execution_count": 112,
   "metadata": {},
   "outputs": [
    {
     "data": {
      "image/png": "[encoded data removed]",
      "text/plain": [
       "<Figure size 432x288 with 2 Axes>"
      ]
     },
     "metadata": {
      "needs_background": "light"
     },
     "output_type": "display_data"
    }
   ],
   "source": [
    "sns.heatmap(data.corr(), cmap=\"YlGnBu\", annot = True)\n",
    "plt.show()"
   ]
  },
  {
   "cell_type": "markdown",
   "metadata": {
    "azdata_cell_guid": "b75b6098-4152-4701-9136-a8f774c8583e"
   },
   "source": [
    "## Create Your Model\n",
    "\n",
    "Use the two columns with the strongest correlation to create and train your model. Make sure to print out the summary and plot the column values and the line produced by the model."
   ]
  },
  {
   "cell_type": "code",
   "execution_count": 127,
   "metadata": {
    "azdata_cell_guid": "05ecd9c7-e4a4-4d5c-b092-3dff597e96a3"
   },
   "outputs": [],
   "source": [
    "# Step 1 is to assign your x and y\n",
    "\n",
    "\n",
    "X = data['Year']\n",
    "y = data['Ciprofloxacin mic']\n",
    "\n",
    "# Looking at heatmap, Ceftriaxone mic and Cefixme mic , Ceftriaxone log mic and Cefixme log mic showed the strongest correlation.\n",
    "# But those are independent of each other. Therefore we cannot define one or other as dependent or independent variable. \n",
    "# In this dataset 'Year' is the only independent variable and I assigned it as X, eventhough heatmap didnot show strong \n",
    "# correlation, These might be useful in the analysis of other similar dataset. \n",
    "\n",
    "\n"
   ]
  },
  {
   "cell_type": "code",
   "execution_count": 128,
   "metadata": {
    "azdata_cell_guid": "f55fbe86-74b8-44f7-af96-7448e58983d7",
    "tags": []
   },
   "outputs": [],
   "source": [
    "# Step 2 is to create your train and test sets\n",
    "# Splitting the varaibles as training and testing\n",
    "from sklearn.model_selection import train_test_split\n",
    "X_train, X_test, y_train, y_test = train_test_split(X, y, train_size = 0.7, \n",
    "                                                    test_size = 0.3, random_state = 100)"
   ]
  },
  {
   "cell_type": "code",
   "execution_count": 129,
   "metadata": {},
   "outputs": [
    {
     "data": {
      "text/plain": [
       "1918    2010.0\n",
       "2403    2015.0\n",
       "936     1999.0\n",
       "368     2013.0\n",
       "1298    2009.0\n",
       "         ...  \n",
       "350     2013.0\n",
       "1930    2004.0\n",
       "79      2010.0\n",
       "1859    2002.0\n",
       "1544    2005.0\n",
       "Name: Year, Length: 1938, dtype: float64"
      ]
     },
     "execution_count": 129,
     "metadata": {},
     "output_type": "execute_result"
    }
   ],
   "source": [
    "# Take a look at the train dataset\n",
    "X_train"
   ]
  },
  {
   "cell_type": "code",
   "execution_count": 130,
   "metadata": {},
   "outputs": [
    {
     "data": {
      "text/plain": [
       "1918     0.015\n",
       "2403     0.004\n",
       "936      0.002\n",
       "368     32.000\n",
       "1298    16.000\n",
       "         ...  \n",
       "350     32.000\n",
       "1930     4.000\n",
       "79      16.000\n",
       "1859     0.008\n",
       "1544     0.004\n",
       "Name: Ciprofloxacin mic, Length: 1938, dtype: float64"
      ]
     },
     "execution_count": 130,
     "metadata": {},
     "output_type": "execute_result"
    }
   ],
   "source": [
    "y_train"
   ]
  },
  {
   "cell_type": "code",
   "execution_count": 131,
   "metadata": {},
   "outputs": [],
   "source": [
    "# Step 3 is to build the model. Remember to import any libraries you may need\n",
    "# Importing Statsmodels.api library from Stamodel package\n",
    "import statsmodels.api as sm\n",
    "\n",
    "# Adding a constant to get an intercept\n",
    "X_train_sm = sm.add_constant(X_train)\n"
   ]
  },
  {
   "cell_type": "code",
   "execution_count": 132,
   "metadata": {},
   "outputs": [
    {
     "data": {
      "text/plain": [
       "const   -377.576132\n",
       "Year       0.191447\n",
       "dtype: float64"
      ]
     },
     "execution_count": 132,
     "metadata": {},
     "output_type": "execute_result"
    }
   ],
   "source": [
    "# Step 4 is to perform residual analysis\n",
    "# Fitting the resgression line using 'OLS'\n",
    "lr = sm.OLS(y_train, X_train_sm).fit()\n",
    "\n",
    "# Printing the parameters\n",
    "lr.params"
   ]
  },
  {
   "cell_type": "code",
   "execution_count": 136,
   "metadata": {
    "scrolled": true
   },
   "outputs": [
    {
     "data": {
      "text/html": [
       "<table class=\"simpletable\">\n",
       "<caption>OLS Regression Results</caption>\n",
       "<tr>\n",
       "  <th>Dep. Variable:</th>    <td>Ciprofloxacin mic</td> <th>  R-squared:         </th> <td>   0.007</td> \n",
       "</tr>\n",
       "<tr>\n",
       "  <th>Model:</th>                   <td>OLS</td>        <th>  Adj. R-squared:    </th> <td>   0.006</td> \n",
       "</tr>\n",
       "<tr>\n",
       "  <th>Method:</th>             <td>Least Squares</td>   <th>  F-statistic:       </th> <td>   12.73</td> \n",
       "</tr>\n",
       "<tr>\n",
       "  <th>Date:</th>             <td>Mon, 06 Mar 2023</td>  <th>  Prob (F-statistic):</th> <td>0.000369</td> \n",
       "</tr>\n",
       "<tr>\n",
       "  <th>Time:</th>                 <td>16:10:52</td>      <th>  Log-Likelihood:    </th> <td> -7430.4</td> \n",
       "</tr>\n",
       "<tr>\n",
       "  <th>No. Observations:</th>      <td>  1938</td>       <th>  AIC:               </th> <td>1.486e+04</td>\n",
       "</tr>\n",
       "<tr>\n",
       "  <th>Df Residuals:</th>          <td>  1936</td>       <th>  BIC:               </th> <td>1.488e+04</td>\n",
       "</tr>\n",
       "<tr>\n",
       "  <th>Df Model:</th>              <td>     1</td>       <th>                     </th>     <td> </td>    \n",
       "</tr>\n",
       "<tr>\n",
       "  <th>Covariance Type:</th>      <td>nonrobust</td>     <th>                     </th>     <td> </td>    \n",
       "</tr>\n",
       "</table>\n",
       "<table class=\"simpletable\">\n",
       "<tr>\n",
       "    <td></td>       <th>coef</th>     <th>std err</th>      <th>t</th>      <th>P>|t|</th>  <th>[0.025</th>    <th>0.975]</th>  \n",
       "</tr>\n",
       "<tr>\n",
       "  <th>const</th> <td> -377.5761</td> <td>  107.872</td> <td>   -3.500</td> <td> 0.000</td> <td> -589.134</td> <td> -166.018</td>\n",
       "</tr>\n",
       "<tr>\n",
       "  <th>Year</th>  <td>    0.1914</td> <td>    0.054</td> <td>    3.567</td> <td> 0.000</td> <td>    0.086</td> <td>    0.297</td>\n",
       "</tr>\n",
       "</table>\n",
       "<table class=\"simpletable\">\n",
       "<tr>\n",
       "  <th>Omnibus:</th>       <td>743.531</td> <th>  Durbin-Watson:     </th> <td>   2.037</td>\n",
       "</tr>\n",
       "<tr>\n",
       "  <th>Prob(Omnibus):</th> <td> 0.000</td>  <th>  Jarque-Bera (JB):  </th> <td>2675.135</td>\n",
       "</tr>\n",
       "<tr>\n",
       "  <th>Skew:</th>          <td> 1.910</td>  <th>  Prob(JB):          </th> <td>    0.00</td>\n",
       "</tr>\n",
       "<tr>\n",
       "  <th>Kurtosis:</th>      <td> 7.306</td>  <th>  Cond. No.          </th> <td>8.53e+05</td>\n",
       "</tr>\n",
       "</table><br/><br/>Notes:<br/>[1] Standard Errors assume that the covariance matrix of the errors is correctly specified.<br/>[2] The condition number is large, 8.53e+05. This might indicate that there are<br/>strong multicollinearity or other numerical problems."
      ],
      "text/plain": [
       "<class 'statsmodels.iolib.summary.Summary'>\n",
       "\"\"\"\n",
       "                            OLS Regression Results                            \n",
       "==============================================================================\n",
       "Dep. Variable:      Ciprofloxacin mic   R-squared:                       0.007\n",
       "Model:                            OLS   Adj. R-squared:                  0.006\n",
       "Method:                 Least Squares   F-statistic:                     12.73\n",
       "Date:                Mon, 06 Mar 2023   Prob (F-statistic):           0.000369\n",
       "Time:                        16:10:52   Log-Likelihood:                -7430.4\n",
       "No. Observations:                1938   AIC:                         1.486e+04\n",
       "Df Residuals:                    1936   BIC:                         1.488e+04\n",
       "Df Model:                           1                                         \n",
       "Covariance Type:            nonrobust                                         \n",
       "==============================================================================\n",
       "                 coef    std err          t      P>|t|      [0.025      0.975]\n",
       "------------------------------------------------------------------------------\n",
       "const       -377.5761    107.872     -3.500      0.000    -589.134    -166.018\n",
       "Year           0.1914      0.054      3.567      0.000       0.086       0.297\n",
       "==============================================================================\n",
       "Omnibus:                      743.531   Durbin-Watson:                   2.037\n",
       "Prob(Omnibus):                  0.000   Jarque-Bera (JB):             2675.135\n",
       "Skew:                           1.910   Prob(JB):                         0.00\n",
       "Kurtosis:                       7.306   Cond. No.                     8.53e+05\n",
       "==============================================================================\n",
       "\n",
       "Notes:\n",
       "[1] Standard Errors assume that the covariance matrix of the errors is correctly specified.\n",
       "[2] The condition number is large, 8.53e+05. This might indicate that there are\n",
       "strong multicollinearity or other numerical problems.\n",
       "\"\"\""
      ]
     },
     "execution_count": 136,
     "metadata": {},
     "output_type": "execute_result"
    }
   ],
   "source": [
    "# Performing a summary to list out all the different parameters of the regression line fitted\n",
    "lr.summary()"
   ]
  },
  {
   "cell_type": "code",
   "execution_count": 133,
   "metadata": {},
   "outputs": [
    {
     "data": {
      "image/png": "[encoded data removed]",
      "text/plain": [
       "<Figure size 432x288 with 1 Axes>"
      ]
     },
     "metadata": {
      "needs_background": "light"
     },
     "output_type": "display_data"
    }
   ],
   "source": [
    "# Visualize using regression line\n",
    "plt.scatter(X_train, y_train)\n",
    "plt.plot(X_train,-377.576132 +   0.191447*X_train, 'r')\n",
    "plt.show()"
   ]
  },
  {
   "cell_type": "markdown",
   "metadata": {
    "azdata_cell_guid": "c021f50d-92b2-4359-b3a9-c47f62f0a94f"
   },
   "source": [
    "## Error Terms\n",
    "\n",
    "Finally, plot your error terms!"
   ]
  },
  {
   "cell_type": "code",
   "execution_count": 134,
   "metadata": {},
   "outputs": [],
   "source": [
    "# Predicting y_value using traingn data of X\n",
    "y_train_pred = lr.predict(X_train_sm)\n",
    "\n",
    "# Creating residuals from the y_train data and predicted y_data\n",
    "res = (y_train - y_train_pred)"
   ]
  },
  {
   "cell_type": "code",
   "execution_count": 135,
   "metadata": {},
   "outputs": [
    {
     "name": "stderr",
     "output_type": "stream",
     "text": [
      "C:\\Users\\lama_\\anaconda3\\lib\\site-packages\\seaborn\\distributions.py:2619: FutureWarning: `distplot` is a deprecated function and will be removed in a future version. Please adapt your code to use either `displot` (a figure-level function with similar flexibility) or `histplot` (an axes-level function for histograms).\n",
      "  warnings.warn(msg, FutureWarning)\n"
     ]
    },
    {
     "data": {
      "image/png": "[encoded data removed]",
      "text/plain": [
       "<Figure size 432x288 with 1 Axes>"
      ]
     },
     "metadata": {
      "needs_background": "light"
     },
     "output_type": "display_data"
    }
   ],
   "source": [
    "# plotting histogram using the residual calues\n",
    "fig = plt.figure()\n",
    "sns.distplot(res, bins=15)\n",
    "plt.title('Error Terms', fontsize = 15)\n",
    "plt.xlabel('y_train - y_train_pred', fontsize = 15)\n",
    "plt.show()"
   ]
  },
  {
   "cell_type": "markdown",
   "metadata": {
    "azdata_cell_guid": "5fc50d24-c873-4801-87f2-a1e518caf424"
   },
   "source": [
    "## Summarize Your Work\n",
    "\n",
    "Make notes of your answers to the questions below.\n",
    "\n",
    "1. What was your R-squared value? \n",
    "Answer: R-squared value is 0.007 which meant that 'Year' and 'Ciprofloxacin mic' has no correlation\n",
    "2. Based on your results, do you think a linear regression model was the best type of predictive analysis for your dataset? \n",
    "Answer: In this dataset a linear regression was not the best type of predictive analysis because the 'Year' column was the only independent variable and it did not have strong correlation with any of the dependent variables.\n",
    "3. Was your plot of the error terms a bell curve?\n",
    "Answer: No"
   ]
  }
 ],
 "metadata": {
  "kernelspec": {
   "display_name": "Python 3 (ipykernel)",
   "language": "python",
   "name": "python3"
  },
  "language_info": {
   "codemirror_mode": {
    "name": "ipython",
    "version": 3
   },
   "file_extension": ".py",
   "mimetype": "text/x-python",
   "name": "python",
   "nbconvert_exporter": "python",
   "pygments_lexer": "ipython3",
   "version": "3.9.12"
  }
 },
 "nbformat": 4,
 "nbformat_minor": 2
}
